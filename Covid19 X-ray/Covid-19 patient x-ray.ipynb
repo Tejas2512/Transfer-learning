{
 "cells": [
  {
   "cell_type": "markdown",
   "metadata": {},
   "source": [
    "#### Dataset vailable at: https://www.kaggle.com/dadhaniyatejas/covid19-xray"
   ]
  },
  {
   "cell_type": "code",
   "execution_count": 59,
   "metadata": {},
   "outputs": [],
   "source": [
    "# Import necessary library\n",
    "import tensorflow as tf\n",
    "from keras.callbacks import EarlyStopping \n",
    "import os\n",
    "from keras.layers import Dense, Input, Flatten, Lambda\n",
    "from keras.models import Model\n",
    "from keras.models import Sequential\n",
    "from keras.applications.vgg16 import VGG16, preprocess_input\n",
    "from keras.preprocessing import image\n",
    "from keras.preprocessing.image import ImageDataGenerator\n",
    "from glob import glob\n",
    "import numpy as np\n",
    "import matplotlib.pyplot as plt"
   ]
  },
  {
   "cell_type": "code",
   "execution_count": 42,
   "metadata": {},
   "outputs": [],
   "source": [
    "# define image size.\n",
    "# VGG16 accept image size as 224*224.\n",
    "\n",
    "image_size = [224,224]\n",
    "\n",
    "# training and validation data path\n",
    "train_path = os.path.join('Dataset','train')\n",
    "valid_path = os.path.join('Dataset','valid')"
   ]
  },
  {
   "cell_type": "code",
   "execution_count": 43,
   "metadata": {},
   "outputs": [],
   "source": [
    "# create VGG16 object.\n",
    "# include_top = False exclude the 3 fully-connected layers at the top of the network.\n",
    "\n",
    "vgg = VGG16(input_shape= image_size + [3] ,\n",
    "            weights = 'imagenet' ,\n",
    "            include_top = False\n",
    "           )"
   ]
  },
  {
   "cell_type": "code",
   "execution_count": 44,
   "metadata": {},
   "outputs": [],
   "source": [
    "# freeze the pretrained weights to make training process faster.\n",
    "# use pretrained weights.\n",
    "\n",
    "for layer in vgg.layers:\n",
    "    layer.trainable = False"
   ]
  },
  {
   "cell_type": "code",
   "execution_count": 45,
   "metadata": {},
   "outputs": [],
   "source": [
    "# listing number of unique classe.\n",
    "folder = glob(os.path.join('Dataset','train','*'))"
   ]
  },
  {
   "cell_type": "code",
   "execution_count": 47,
   "metadata": {},
   "outputs": [],
   "source": [
    "# connect vgg output to flatten layers.\n",
    "x = Flatten()(vgg.output)"
   ]
  },
  {
   "cell_type": "code",
   "execution_count": 48,
   "metadata": {},
   "outputs": [],
   "source": [
    "# create output layer with softmax activation function.\n",
    "output = Dense(len(folder), activation='softmax')(x)\n",
    "\n",
    "# define input and output for model.\n",
    "model = Model(inputs=vgg.input, outputs=output)"
   ]
  },
  {
   "cell_type": "code",
   "execution_count": 49,
   "metadata": {},
   "outputs": [
    {
     "name": "stdout",
     "output_type": "stream",
     "text": [
      "Model: \"model_2\"\n",
      "_________________________________________________________________\n",
      "Layer (type)                 Output Shape              Param #   \n",
      "=================================================================\n",
      "input_4 (InputLayer)         (None, 224, 224, 3)       0         \n",
      "_________________________________________________________________\n",
      "block1_conv1 (Conv2D)        (None, 224, 224, 64)      1792      \n",
      "_________________________________________________________________\n",
      "block1_conv2 (Conv2D)        (None, 224, 224, 64)      36928     \n",
      "_________________________________________________________________\n",
      "block1_pool (MaxPooling2D)   (None, 112, 112, 64)      0         \n",
      "_________________________________________________________________\n",
      "block2_conv1 (Conv2D)        (None, 112, 112, 128)     73856     \n",
      "_________________________________________________________________\n",
      "block2_conv2 (Conv2D)        (None, 112, 112, 128)     147584    \n",
      "_________________________________________________________________\n",
      "block2_pool (MaxPooling2D)   (None, 56, 56, 128)       0         \n",
      "_________________________________________________________________\n",
      "block3_conv1 (Conv2D)        (None, 56, 56, 256)       295168    \n",
      "_________________________________________________________________\n",
      "block3_conv2 (Conv2D)        (None, 56, 56, 256)       590080    \n",
      "_________________________________________________________________\n",
      "block3_conv3 (Conv2D)        (None, 56, 56, 256)       590080    \n",
      "_________________________________________________________________\n",
      "block3_pool (MaxPooling2D)   (None, 28, 28, 256)       0         \n",
      "_________________________________________________________________\n",
      "block4_conv1 (Conv2D)        (None, 28, 28, 512)       1180160   \n",
      "_________________________________________________________________\n",
      "block4_conv2 (Conv2D)        (None, 28, 28, 512)       2359808   \n",
      "_________________________________________________________________\n",
      "block4_conv3 (Conv2D)        (None, 28, 28, 512)       2359808   \n",
      "_________________________________________________________________\n",
      "block4_pool (MaxPooling2D)   (None, 14, 14, 512)       0         \n",
      "_________________________________________________________________\n",
      "block5_conv1 (Conv2D)        (None, 14, 14, 512)       2359808   \n",
      "_________________________________________________________________\n",
      "block5_conv2 (Conv2D)        (None, 14, 14, 512)       2359808   \n",
      "_________________________________________________________________\n",
      "block5_conv3 (Conv2D)        (None, 14, 14, 512)       2359808   \n",
      "_________________________________________________________________\n",
      "block5_pool (MaxPooling2D)   (None, 7, 7, 512)         0         \n",
      "_________________________________________________________________\n",
      "flatten_4 (Flatten)          (None, 25088)             0         \n",
      "_________________________________________________________________\n",
      "dense_2 (Dense)              (None, 3)                 75267     \n",
      "=================================================================\n",
      "Total params: 14,789,955\n",
      "Trainable params: 75,267\n",
      "Non-trainable params: 14,714,688\n",
      "_________________________________________________________________\n"
     ]
    }
   ],
   "source": [
    "# visualize model\n",
    "model.summary()"
   ]
  },
  {
   "cell_type": "code",
   "execution_count": 50,
   "metadata": {},
   "outputs": [],
   "source": [
    "# compile model with adam optimizer and categorical_crossentropy loss.\n",
    "\n",
    "model.compile(optimizer='adam', \n",
    "              loss = \"categorical_crossentropy\", \n",
    "              metrics = ['accuracy']\n",
    "             )"
   ]
  },
  {
   "cell_type": "code",
   "execution_count": 51,
   "metadata": {},
   "outputs": [],
   "source": [
    "# generate more date sothat model train well\n",
    "\n",
    "train_datagen = ImageDataGenerator(rescale= 1./255,\n",
    "                                   shear_range= 0.2, \n",
    "                                   zoom_range= 0.2, \n",
    "                                   horizontal_flip= True\n",
    "                                    )\n",
    "\n",
    "valid_datagen = ImageDataGenerator(rescale= 1./255)"
   ]
  },
  {
   "cell_type": "code",
   "execution_count": 52,
   "metadata": {},
   "outputs": [
    {
     "name": "stdout",
     "output_type": "stream",
     "text": [
      "Found 251 images belonging to 3 classes.\n"
     ]
    }
   ],
   "source": [
    "training_set = train_datagen.flow_from_directory(os.path.join('Dataset','train'), \n",
    "                                                 target_size=(224,224), \n",
    "                                                 batch_size= 32, \n",
    "                                                 class_mode= 'categorical'\n",
    "                                                )"
   ]
  },
  {
   "cell_type": "code",
   "execution_count": 53,
   "metadata": {},
   "outputs": [
    {
     "name": "stdout",
     "output_type": "stream",
     "text": [
      "Found 63 images belonging to 3 classes.\n"
     ]
    }
   ],
   "source": [
    "validation_set = valid_datagen.flow_from_directory(os.path.join('Dataset','valid'), \n",
    "                                                 target_size=(224,224), \n",
    "                                                 batch_size= 32, \n",
    "                                                 class_mode= 'categorical'\n",
    "                                                )"
   ]
  },
  {
   "cell_type": "code",
   "execution_count": 60,
   "metadata": {},
   "outputs": [
    {
     "name": "stdout",
     "output_type": "stream",
     "text": [
      "Epoch 1/50\n",
      "8/8 [==============================] - 77s 10s/step - loss: 0.9720 - accuracy: 0.6096 - val_loss: 0.6858 - val_accuracy: 0.6667\n",
      "Epoch 2/50\n",
      "8/8 [==============================] - 68s 8s/step - loss: 0.3530 - accuracy: 0.8486 - val_loss: 0.2749 - val_accuracy: 0.7302\n",
      "Epoch 3/50\n",
      "8/8 [==============================] - 74s 9s/step - loss: 0.2474 - accuracy: 0.8964 - val_loss: 0.1888 - val_accuracy: 0.9206\n",
      "Epoch 4/50\n",
      "8/8 [==============================] - 67s 8s/step - loss: 0.1688 - accuracy: 0.9402 - val_loss: 0.1787 - val_accuracy: 0.8571\n",
      "Epoch 5/50\n",
      "8/8 [==============================] - 58s 7s/step - loss: 0.0979 - accuracy: 0.9681 - val_loss: 0.1365 - val_accuracy: 0.9365\n",
      "Epoch 6/50\n",
      "8/8 [==============================] - 60s 7s/step - loss: 0.1168 - accuracy: 0.9562 - val_loss: 0.0921 - val_accuracy: 0.9524\n",
      "Epoch 7/50\n",
      "8/8 [==============================] - 58s 7s/step - loss: 0.0793 - accuracy: 0.9801 - val_loss: 0.0996 - val_accuracy: 0.9841\n",
      "Epoch 8/50\n",
      "8/8 [==============================] - 58s 7s/step - loss: 0.0716 - accuracy: 0.9801 - val_loss: 0.1247 - val_accuracy: 0.9841\n",
      "Epoch 9/50\n",
      "8/8 [==============================] - 60s 8s/step - loss: 0.0734 - accuracy: 0.9801 - val_loss: 0.0964 - val_accuracy: 0.9841\n",
      "Epoch 10/50\n",
      "8/8 [==============================] - 55s 7s/step - loss: 0.0635 - accuracy: 0.9841 - val_loss: 0.0739 - val_accuracy: 0.9524\n",
      "Epoch 11/50\n",
      "8/8 [==============================] - 43s 5s/step - loss: 0.0450 - accuracy: 0.9920 - val_loss: 0.0595 - val_accuracy: 0.9524\n",
      "Epoch 12/50\n",
      "8/8 [==============================] - 44s 6s/step - loss: 0.0397 - accuracy: 0.9920 - val_loss: 0.1390 - val_accuracy: 0.9841\n",
      "Epoch 13/50\n",
      "8/8 [==============================] - 45s 6s/step - loss: 0.0447 - accuracy: 0.9960 - val_loss: 0.1112 - val_accuracy: 0.9841\n",
      "Epoch 14/50\n",
      "8/8 [==============================] - 43s 5s/step - loss: 0.0353 - accuracy: 0.9960 - val_loss: 0.0931 - val_accuracy: 0.9841\n",
      "Epoch 15/50\n",
      "8/8 [==============================] - 43s 5s/step - loss: 0.0349 - accuracy: 0.9960 - val_loss: 0.1451 - val_accuracy: 0.9524\n",
      "Epoch 16/50\n",
      "8/8 [==============================] - 43s 5s/step - loss: 0.0271 - accuracy: 0.9960 - val_loss: 0.0708 - val_accuracy: 1.0000\n"
     ]
    }
   ],
   "source": [
    "# start training\n",
    "# here we define earlystopping callback. if validation loss not decrese for consecutive 5 epoch the stop training. \n",
    "history = model.fit_generator(training_set,\n",
    "                              validation_data=validation_set,\n",
    "                              epochs=50,\n",
    "                              steps_per_epoch = len(training_set),\n",
    "                              validation_steps = len(validation_set),\n",
    "                              callbacks= [EarlyStopping(monitor='val_loss',patience=5)]\n",
    "                              )"
   ]
  },
  {
   "cell_type": "code",
   "execution_count": 62,
   "metadata": {},
   "outputs": [],
   "source": [
    "import pandas as pd\n",
    "record = pd.DataFrame(history.history)"
   ]
  },
  {
   "cell_type": "code",
   "execution_count": 72,
   "metadata": {},
   "outputs": [
    {
     "data": {
      "image/png": "[encoded data removed]",
      "text/plain": [
       "<Figure size 720x360 with 1 Axes>"
      ]
     },
     "metadata": {
      "needs_background": "light"
     },
     "output_type": "display_data"
    }
   ],
   "source": [
    "# plot model history.\n",
    "record.plot(figsize=(10,5))\n",
    "plt.grid()\n",
    "plt.xlabel('Epochs')\n",
    "plt.title('Model history')\n",
    "plt.show()"
   ]
  },
  {
   "cell_type": "code",
   "execution_count": 74,
   "metadata": {},
   "outputs": [],
   "source": [
    "# save the model.\n",
    "from keras.models import load_model\n",
    "model.save('VGG16.h5')"
   ]
  },
  {
   "cell_type": "code",
   "execution_count": 120,
   "metadata": {},
   "outputs": [],
   "source": [
    "# class category\n",
    "cls = ['Covid', 'Normal', 'Viral Pneumonia']"
   ]
  },
  {
   "cell_type": "code",
   "execution_count": 157,
   "metadata": {},
   "outputs": [
    {
     "data": {
      "text/plain": [
       "'Viral Pneumonia'"
      ]
     },
     "execution_count": 157,
     "metadata": {},
     "output_type": "execute_result"
    }
   ],
   "source": [
    "# coustom prediction\n",
    "img = image.load_img(os.path.join('Dataset','test','viral (2).jpeg'),target_size=(224,224))\n",
    "x = image.img_to_array(img)\n",
    "x = np.expand_dims(x, axis=0)\n",
    "img_data = preprocess_input(x)\n",
    "classs = model.predict(img_data)\n",
    "cls[classs.argmax()]"
   ]
  },
  {
   "cell_type": "code",
   "execution_count": null,
   "metadata": {},
   "outputs": [],
   "source": []
  }
 ],
 "metadata": {
  "kernelspec": {
   "display_name": "Python 3",
   "language": "python",
   "name": "python3"
  },
  "language_info": {
   "codemirror_mode": {
    "name": "ipython",
    "version": 3
   },
   "file_extension": ".py",
   "mimetype": "text/x-python",
   "name": "python",
   "nbconvert_exporter": "python",
   "pygments_lexer": "ipython3",
   "version": "3.8.3"
  }
 },
 "nbformat": 4,
 "nbformat_minor": 4
}
